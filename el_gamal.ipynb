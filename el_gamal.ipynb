{
  "nbformat": 4,
  "nbformat_minor": 0,
  "metadata": {
    "colab": {
      "name": "el_gamal.ipynb",
      "provenance": [],
      "authorship_tag": "ABX9TyM3wGBp+vPiydOzqdKmKnv6",
      "include_colab_link": true
    },
    "kernelspec": {
      "name": "python3",
      "display_name": "Python 3"
    },
    "language_info": {
      "name": "python"
    }
  },
  "cells": [
    {
      "cell_type": "markdown",
      "metadata": {
        "id": "view-in-github",
        "colab_type": "text"
      },
      "source": [
        "<a href=\"https://colab.research.google.com/github/ychzr9/RSA-and-ElGamal-Implementation/blob/main/el_gamal.ipynb\" target=\"_parent\"><img src=\"https://colab.research.google.com/assets/colab-badge.svg\" alt=\"Open In Colab\"/></a>"
      ]
    },
    {
      "cell_type": "markdown",
      "metadata": {
        "id": "ItVb6gOZ3dbH"
      },
      "source": [
        "# ElGamal Encryption\n",
        "\n",
        "In cryptography, the ElGamal encryption system is an asymmetric key encryption algorithm for public-key cryptography which is based on the Diffie–Hellman key exchange.\n",
        "\n",
        "ElGamal encryption can be defined over any cyclic group *G*, like multiplicative group of integers modulo n. Its security depends upon the difficulty of a certain problem in *G* related to computing discrete logarithms.\n",
        "\n",
        "ElGamal encryption consists of three components: the key generator, the encryption algorithm, and the decryption algorithm.\n",
        "\n",
        "## Key Generation\n",
        "\n",
        " Alice, generates a key pair:\n",
        "\n",
        "*   *G* be a cyclic group of order *q*, with generator *g*. Let *e* be the unit element of *G*\n",
        "*   Choose an integer *x* randomly from *{1, . . . ,q-1}*\n",
        "*   Compute *h:=$g^{x}$*\n",
        "*   The public key consists of the values *(G,q,g,h)*. Alice publishes this public key and retains *x* as her private key, which must be kept secret.\n",
        "\n",
        "## Encryption\n",
        "\n",
        "A second party, Bob, encrypts a message *M* to Alice under her public key *(G,q,g,h)* :\n",
        "\n",
        "*   Map the message *M* to an element *m* of *G* using a reversible mapping function.\n",
        "*   Choose an integer *y* randomly from *{1, . . . ,q-1}*.\n",
        "*   Compute *s := $h^{y}$*. This is called the shared secret.\n",
        "*   Compute *$c_{1}$ := $g^{y}$*.\n",
        "*   Compute *$c_{2}$ := $m \\cdot s$*.\n",
        "*   Bob sends the ciphertext *$(c_{1},c_{2})$* to Alice.\n",
        "\n",
        "\n",
        "## Decryption\n",
        "\n",
        "Alice decrypts a ciphertext*$(c_{1},c_{2})$*  with her private key *x* :\n",
        "*   Compute *s := $c_{1}^{x}$*. Since *$c_{1}=g^{y}$*, *$c_{1}^{x}$ = $g^{xy}=h^{y}$*. and thus it is the same shared secret that was used by Bob in encryption.\n",
        "*   Compute *$s^{-1}$* , the inverse of *s* in the group *G*. If *G* is a subgroup of a multiplicative group of integers modulo n, the modular multiplicative inverse can be computed using the Extended Euclidean Algorithm. \n",
        "*   Compute *m := $c_{2}$ $\\cdot$ $s^{-1}$*. This calculation produces the original message *m*, because *$c_{2}$ = $m\\cdot$ s*;  \n",
        "\n",
        "  hence *$c_{2}$ $\\cdot$ $s^{-1}$ = $(m\\cdot s)$ $\\cdot$ $s^{-1}$ = $m\\cdot e=m$*.\n",
        "*   Map *m* back to the plaintext message *M*.\n"
      ]
    },
    {
      "cell_type": "code",
      "metadata": {
        "colab": {
          "base_uri": "https://localhost:8080/"
        },
        "id": "H70yqIv-jfHx",
        "outputId": "9ee6149d-83db-4b92-f3b1-8600cc5690ca"
      },
      "source": [
        "message = input('Give the message that will be encrypted: \\n')\n",
        "q=random.randint(pow(10,20),pow(10,50))\n",
        "g=random.randint(2,q)\n",
        "key=keygeneration(q)\n",
        "h=modexp(g,key,q)\n",
        "\n",
        "#print(\"g =\",g)\n",
        "#print(\"g^x =\",h)\n",
        "#print(\"Message given :\",message)\n",
        "\n",
        "ciphertxt,p=encryption(message,q,h,g)\n",
        "print(\"Encrypted message is :\",ciphertxt)\n",
        "\n",
        "plaintext = decryption(ciphertxt,p,key,q)\n",
        "decryptmessage=''.join(plaintext)\n",
        "print(\"Decryted message is :\",decryptmessage)\n"
      ],
      "execution_count": 76,
      "outputs": [
        {
          "output_type": "stream",
          "text": [
            "Give the message that will be encrypted: \n",
            "cbvcbc\n",
            "Encrypted message is : [5796997597560196272403743264763247589396127350113898, 5738442066271709441369362019664628926876974548597596, 6909552692041446062056986921637002177260030578923636, 5796997597560196272403743264763247589396127350113898, 5738442066271709441369362019664628926876974548597596, 5796997597560196272403743264763247589396127350113898]\n",
            "Decryted message is : cbvcbc\n"
          ],
          "name": "stdout"
        }
      ]
    },
    {
      "cell_type": "code",
      "metadata": {
        "id": "UA9B3zFl4u43"
      },
      "source": [
        "import random\n",
        "from math import pow"
      ],
      "execution_count": 77,
      "outputs": []
    },
    {
      "cell_type": "code",
      "metadata": {
        "id": "ZiVLq-hD4stR"
      },
      "source": [
        "# First, giving the function that returns gratest common divisor of two integers a and b;\n",
        "def gcd(a, b):\n",
        "    if a == 0 :\n",
        "        return b\n",
        "     \n",
        "    return gcd(b%a, a)"
      ],
      "execution_count": 78,
      "outputs": []
    },
    {
      "cell_type": "code",
      "metadata": {
        "id": "fwtnGyAJ409-"
      },
      "source": [
        "# Generating key\n",
        "def keygeneration(q):\n",
        "    key= random.randint(pow(10,20),q)\n",
        "    while gcd(q,key)!=1:\n",
        "        key=random.randint(pow(10,20),q)\n",
        "    return key    "
      ],
      "execution_count": 79,
      "outputs": []
    },
    {
      "cell_type": "code",
      "metadata": {
        "id": "099EMqscnjvw"
      },
      "source": [
        "# Computing modular exponentiation \n",
        "def modexp(x,e,m):\n",
        "    X = x\n",
        "    E = e\n",
        "    Y = 1\n",
        "    while E > 0:\n",
        "        if E % 2 == 0:\n",
        "            X = (X * X) % m\n",
        "            E = E/2\n",
        "        else:\n",
        "            Y = (X * Y) % m\n",
        "            E = E - 1\n",
        "    return Y"
      ],
      "execution_count": 80,
      "outputs": []
    },
    {
      "cell_type": "code",
      "metadata": {
        "id": "V5WKVGtbv1gL"
      },
      "source": [
        "# Encryption function:\n",
        "def encryption(message,q,h,g):\n",
        "    ciphertxt=[]\n",
        "    k=keygeneration(q)\n",
        "    s=modexp(h,k,q)\n",
        "    p=modexp(g,k,q)\n",
        "    for i in range(0,len(message)):\n",
        "        ciphertxt.append(message[i])\n",
        "    #print(\"g^k : \",p)\n",
        "    #print(\"g^xk : \",s)\n",
        "    for i in range(0,len(ciphertxt)):\n",
        "        ciphertxt[i]=s*ord(ciphertxt[i])\n",
        "    return ciphertxt,p"
      ],
      "execution_count": 81,
      "outputs": []
    },
    {
      "cell_type": "code",
      "metadata": {
        "id": "ka3EOWDHwSW0"
      },
      "source": [
        "# Decryption function:\n",
        "def decryption(ciphertxt,p,key,q):\n",
        "    plaintext=[]\n",
        "    h=modexp(p,key,q)\n",
        "    for i in range(0,len(ciphertxt)):\n",
        "        plaintext.append(chr(int(ciphertxt[i]/h)))\n",
        "    return plaintext"
      ],
      "execution_count": 82,
      "outputs": []
    }
  ]
}