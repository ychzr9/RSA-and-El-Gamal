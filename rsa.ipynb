{
  "nbformat": 4,
  "nbformat_minor": 0,
  "metadata": {
    "colab": {
      "name": "rsa.ipynb",
      "provenance": [],
      "authorship_tag": "ABX9TyOMcP9Ph8NmoqlSLCb4Z3zl",
      "include_colab_link": true
    },
    "kernelspec": {
      "name": "python3",
      "display_name": "Python 3"
    },
    "language_info": {
      "name": "python"
    }
  },
  "cells": [
    {
      "cell_type": "markdown",
      "metadata": {
        "id": "view-in-github",
        "colab_type": "text"
      },
      "source": [
        "<a href=\"https://colab.research.google.com/github/ychzr9/RSA-and-ElGamal-Implementation/blob/main/rsa.ipynb\" target=\"_parent\"><img src=\"https://colab.research.google.com/assets/colab-badge.svg\" alt=\"Open In Colab\"/></a>"
      ]
    },
    {
      "cell_type": "markdown",
      "metadata": {
        "id": "FyjxwrC6GsoN"
      },
      "source": [
        "RSA algorithm is a public key encryption technique. It was invented by Rivest, Shamir and Adleman in year 1978.\n",
        "\n",
        "RSA involves a public key and private key. The public key can be known to everyone- it is used to encrypt messages. Messages encrypted using the public key can only be decrypted with the private key. The private key needs to be kept secret. Calculating the private key from the public key is very difficult.\n",
        "\n",
        "RSA works in the following way: \n",
        "\n",
        "1.   Generating keys:\n",
        "\n",
        "\n",
        "*   Choose two different random prime numbers *p* and *q*. This should be kept secret.\n",
        "*   Calculate *n=pq*\n",
        "*   Calculate \t$\\phi$*(n)=(p-1)(q-1)*\n",
        "*   Choose an integer *e* such that *1< e < $\\phi(n)$*, and *e* is co-prime to *$\\phi$(n)*. \n",
        "  ( *e* is released as the public key exponent.)\n",
        "*   Compute *d* to satisfy the congruence relation *de $\\equiv$ 1 (mod $\\phi$(n))*.\n",
        "   (*d* is kept as the private key exponent)\n",
        "\n",
        "2.   Encrypting message: \n",
        " \n",
        "  Alice gives her public key *(n,e)* to Bob and keeps her private key secret. Bob wants to send message *M* to Alice.\n",
        "\n",
        "  The operation used is:   \n",
        "  *$c=m^e$ mod(n)*.\n",
        "\n",
        "3. Decrypying message: \n",
        "\n",
        "  Alice can recover *m* from *c*, by using her private key *d*. \n",
        "  \n",
        "  The basic operation is the following :\n",
        "\n",
        "  *m $\\equiv$ $c^d$ (mod n)*.\n",
        "\n",
        "Let us see the process in python code: \n",
        "\n",
        "\n",
        "\n"
      ]
    },
    {
      "cell_type": "code",
      "metadata": {
        "id": "n8zJtjaV_zT9"
      },
      "source": [
        "# Giving the main function \n",
        "def main():\n",
        "   \n",
        "  selection = input('Choose: Encryption // Decryption (Press 1 to encrypt, Press 2 to decrypt): ')\n",
        "  if (selection == '1'):\n",
        "      message = input('Give the message that will be encrypted: \\n')\n",
        "      print(encryption(message))\n",
        "\n",
        "  elif (selection == '2'):\n",
        "      message = input('Give the message that will be decrypted: \\n')\n",
        "      print(decryption(message))\n",
        "  else:\n",
        "      print('Error')\n",
        "\n",
        "main()"
      ],
      "execution_count": null,
      "outputs": []
    },
    {
      "cell_type": "code",
      "metadata": {
        "id": "nAWGj4qVhSAU"
      },
      "source": [
        "# First, giving the function that returns gratest common divisor of two integers a and b;\n",
        "def gcd(a, b):\n",
        "    if a == 0 :\n",
        "        return b\n",
        "     \n",
        "    return gcd(b%a, a)\n",
        " "
      ],
      "execution_count": null,
      "outputs": []
    },
    {
      "cell_type": "code",
      "metadata": {
        "id": "BcPfOivzhqF5"
      },
      "source": [
        "# Giving the function that calculates the Extended Euclidean Algorithm\n",
        "def ext_eucld_alg(a, b):\n",
        "  x,y, u,v = 0,1, 1,0\n",
        "  while a != 0:\n",
        "    q, r = b//a, b%a\n",
        "    m, n = x-u*q, y-v*q\n",
        "    b,a, x,y, u,v = a,r, u,v, m,n\n",
        "  gcd = b\n",
        "# Returning greatest common divisor of a and b, coefficient of a, coefficient of b  \n",
        "  return gcd, x, y\n",
        "\n",
        "      "
      ],
      "execution_count": null,
      "outputs": []
    },
    {
      "cell_type": "code",
      "metadata": {
        "id": "RUWm3zCPgbu2"
      },
      "source": [
        "# Generate two prime numbers between 100 and 500.\n",
        "import random\n",
        "from sympy import *\n",
        "primes = [i for i in range(100,500) if isprime(i)]\n",
        "p = random.choice(primes)\n",
        "q = random.choice(primes)\n",
        "\n",
        "\n",
        "# Now, define n, phi_n;\n",
        "n=p*q \n",
        "phi_n=(p-1)*(q-1)\n"
      ],
      "execution_count": null,
      "outputs": []
    },
    {
      "cell_type": "code",
      "metadata": {
        "id": "wM9dO_CmcJaG"
      },
      "source": [
        "# Choosing the public key e, that is between (2,phi_n) and prime with phi_n\n",
        "def choose_e(phi_n):\n",
        "  while (True):\n",
        "    e = random.randrange(2, phi_n)\n",
        "    if (gcd(e, phi_n) == 1):\n",
        "        return e\n",
        "e= choose_e(phi_n)\n",
        "#print(e)\n",
        "\n",
        "'''\n",
        " After choosing 'e', now we calculate private key 'd' using Extended Euclidean Algorithm  \n",
        " Note that d is an integer in the interval (1, phi_n) and ed=1 (mod phi_n)\n",
        "'''\n",
        "gcd, x, y = ext_eucld_alg(choose_e(phi_n), phi_n)\n",
        "if (x < 0):\n",
        "  d = x + phi_n\n",
        "else:\n",
        "  d = x\n",
        "\n",
        "#print(d)"
      ],
      "execution_count": null,
      "outputs": []
    },
    {
      "cell_type": "code",
      "metadata": {
        "id": "CbpbE_bg-0jX"
      },
      "source": [
        "# Write parameters into a file \n",
        "f_parameters_public = open('parametersenc.txt', 'w')\n",
        "f_parameters_public.write(str(n)+'\\n')\n",
        "f_parameters_public.write(str(e)+'\\n')\n",
        "f_parameters_public.close()\n",
        "f_parameters_private = open('parametersdec.txt','w')\n",
        "f_parameters_private.write(str(n)+'\\n')\n",
        "f_parameters_private.write(str(d)+'\\n')\n",
        "f_parameters_private.close()"
      ],
      "execution_count": null,
      "outputs": []
    },
    {
      "cell_type": "markdown",
      "metadata": {
        "id": "jVeLaCRJqj8g"
      },
      "source": [
        "Now, we selected random primes 'p' and 'q', public key 'e' and calculated private key 'd'. The following is the encryption part:"
      ]
    },
    {
      "cell_type": "code",
      "metadata": {
        "id": "8XDNw_ysjCqs"
      },
      "source": [
        "def encryption(plaintxt, file='parametersenc.txt', blocksize=2):\n",
        "  # First read parameters 'n' and 'e' from the file\n",
        "  f = open(file,'r')\n",
        "  e = int(f.readline())\n",
        "  n = int(f.readline())\n",
        "  f.close()\n",
        "\n",
        "  encryptedblock = []\n",
        "\n",
        "# Initilization of the ciphertext with the first character of plaintext:\n",
        "# Using ord function, give ascii value of first character of plaintext as initilization \n",
        "  if(len(plaintxt)>0):\n",
        "    ciphertxt = ord(plaintxt[0])\n",
        "\n",
        "  for j in range(1, len(plaintxt)):\n",
        "    if(j%blocksize == 0):     \n",
        "      # in the case of block size is at the highest, append encrypted ciphertext to the list\n",
        "      encryptedblock.append(ciphertxt)\n",
        "      # multiply by 1000 to shift the digits over to the left by 3 places\n",
        "      ciphertxt = ciphertxt * 1000 + ord(message[i])\n",
        "  encryptedblock.append(ciphertxt)\n",
        "\n",
        "# Finally, doing the encryption operation according to the length of encryptedblock \n",
        "  for j in range(len(encryptedblock)):\n",
        "    encryptedblock[j] = str((encryptedblock[j]**e) % n) # (plaintext)^e (mod n) \n",
        "\n",
        "  final_ciphertxt=\" \".join(encryptedblock) # add encrypted blocks together \n",
        "\n",
        "  return final_ciphertxt"
      ],
      "execution_count": null,
      "outputs": []
    },
    {
      "cell_type": "code",
      "metadata": {
        "id": "KBiFEtOtdb4L"
      },
      "source": [
        "def decryption(block, blocksize = 2):\n",
        "  # First, read the private keys 'n' & 'd' from the file \n",
        "  f = open('parametersdec.txt', 'r')\n",
        "  d = int(f.readline())\n",
        "  n = int(f.readline())\n",
        "  f.close()\n",
        "\n",
        "  # turning the string into a list of integers\n",
        "  blockslist = block.split(' ')\n",
        "  integerlistblock = []\n",
        "\n",
        "  for i in blockslist:\n",
        "    integerlistblock.append(int(i))\n",
        "\n",
        "  message = \"\"\n",
        " \n",
        "  # In the integer list, convert each integer to the characters\n",
        "  for i in range(len(integerlistblock)):\n",
        "    integerlistblock[i] = (integerlistblock[i]**d) % n      # decryption operation: (integer)^d (modn), for each integer in the list\n",
        "        \n",
        "    k = \"\"\n",
        "    # take apart each block into its ASCII codes for each character\n",
        "    # and store it in the message string\n",
        "    for j in range(blocksize):\n",
        "        k = chr(integerlistblock[i] % 1000) + k\n",
        "        integerlistblock[i] //= 1000\n",
        "    message += k\n",
        "\n",
        "  return message\n",
        "\n",
        "\n"
      ],
      "execution_count": null,
      "outputs": []
    }
  ]
}